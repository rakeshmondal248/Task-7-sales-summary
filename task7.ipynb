{
 "cells": [
  {
   "cell_type": "code",
   "execution_count": 1,
   "id": "88644eae-b9d1-4dce-aff9-d8999810ea31",
   "metadata": {},
   "outputs": [],
   "source": [
    "import sqlite3\n"
   ]
  },
  {
   "cell_type": "code",
   "execution_count": 2,
   "id": "0509ea51-e32a-4821-ab13-3bceada5d9cd",
   "metadata": {},
   "outputs": [],
   "source": [
    "conn = sqlite3.connect(\"sales_data.db\")\n",
    "cursor = conn.cursor()"
   ]
  },
  {
   "cell_type": "code",
   "execution_count": 3,
   "id": "e556e874-01f4-42f9-9f95-20179b06404b",
   "metadata": {},
   "outputs": [
    {
     "data": {
      "text/plain": [
       "<sqlite3.Cursor at 0x2a1142b4540>"
      ]
     },
     "execution_count": 3,
     "metadata": {},
     "output_type": "execute_result"
    }
   ],
   "source": [
    "cursor.execute(\"DROP TABLE IF EXISTS sales\")"
   ]
  },
  {
   "cell_type": "code",
   "execution_count": 4,
   "id": "37ea5bb9-2cb3-4c7c-b7b4-2c05822595b1",
   "metadata": {},
   "outputs": [
    {
     "data": {
      "text/plain": [
       "<sqlite3.Cursor at 0x2a1142b4540>"
      ]
     },
     "execution_count": 4,
     "metadata": {},
     "output_type": "execute_result"
    }
   ],
   "source": [
    "cursor.execute(\"\"\"\n",
    "CREATE TABLE sales (\n",
    "    product TEXT,\n",
    "    quantity INTEGER,\n",
    "    price REAL\n",
    ")\n",
    "\"\"\")"
   ]
  },
  {
   "cell_type": "code",
   "execution_count": 5,
   "id": "6bca131d-ce5a-442b-8aae-bf9db1bbfedc",
   "metadata": {},
   "outputs": [
    {
     "data": {
      "text/plain": [
       "<sqlite3.Cursor at 0x2a1142b4540>"
      ]
     },
     "execution_count": 5,
     "metadata": {},
     "output_type": "execute_result"
    }
   ],
   "source": [
    "sample_data = [\n",
    "    (\"Laptop\", 3, 50000),\n",
    "    (\"Laptop\", 2, 52000),\n",
    "    (\"Mobile\", 5, 15000),\n",
    "    (\"Mobile\", 3, 18000),\n",
    "    (\"Tablet\", 4, 25000),\n",
    "    (\"Tablet\", 1, 23000),\n",
    "]\n",
    "cursor.executemany(\"INSERT INTO sales VALUES (?, ?, ?)\", sample_data)"
   ]
  },
  {
   "cell_type": "code",
   "execution_count": 6,
   "id": "a0d1e8b6-aceb-4b89-aefd-804087b96533",
   "metadata": {},
   "outputs": [],
   "source": [
    "conn.commit()\n",
    "conn.close()"
   ]
  },
  {
   "cell_type": "code",
   "execution_count": 7,
   "id": "683c2713-61ff-4507-a884-6eee3e2efda1",
   "metadata": {},
   "outputs": [
    {
     "name": "stdout",
     "output_type": "stream",
     "text": [
      "sales_data.db created successfully!\n"
     ]
    }
   ],
   "source": [
    "print(\"sales_data.db created successfully!\")"
   ]
  },
  {
   "cell_type": "code",
   "execution_count": 8,
   "id": "33691fd9-513c-4c4e-9d92-69a4435ced68",
   "metadata": {},
   "outputs": [],
   "source": [
    "import sqlite3\n",
    "import pandas as pd\n",
    "import matplotlib.pyplot as plt"
   ]
  },
  {
   "cell_type": "code",
   "execution_count": 9,
   "id": "8cdb7b30-0450-4d6e-a882-d62dd235c42f",
   "metadata": {},
   "outputs": [],
   "source": [
    "conn = sqlite3.connect(\"sales_data.db\")"
   ]
  },
  {
   "cell_type": "code",
   "execution_count": 12,
   "id": "2fe8550f-bd09-4fcb-b1c6-1ee31b63ce31",
   "metadata": {},
   "outputs": [],
   "source": [
    "query = \"\"\"\n",
    "SELECT product,\n",
    "       SUM(quantity) AS total_qty,\n",
    "       SUM(quantity * price) AS revenue\n",
    "FROM sales\n",
    "GROUP BY product\n",
    "\"\"\""
   ]
  },
  {
   "cell_type": "code",
   "execution_count": 13,
   "id": "f46f6a35-faeb-4977-a4e0-0ec4a0e7afed",
   "metadata": {},
   "outputs": [],
   "source": [
    "df = pd.read_sql_query(query, conn)"
   ]
  },
  {
   "cell_type": "code",
   "execution_count": 14,
   "id": "dc934f23-6d41-4a1b-91af-93144689256b",
   "metadata": {},
   "outputs": [
    {
     "name": "stdout",
     "output_type": "stream",
     "text": [
      "  product  total_qty   revenue\n",
      "0  Laptop          5  254000.0\n",
      "1  Mobile          8  129000.0\n",
      "2  Tablet          5  123000.0\n"
     ]
    }
   ],
   "source": [
    "print(df)"
   ]
  },
  {
   "cell_type": "code",
   "execution_count": 15,
   "id": "d6c00ca8-f4f9-4997-9985-4f14a9e7c32a",
   "metadata": {},
   "outputs": [
    {
     "data": {
      "text/plain": [
       "<Figure size 600x400 with 0 Axes>"
      ]
     },
     "metadata": {},
     "output_type": "display_data"
    },
    {
     "data": {
      "image/png": "[encoded data removed]",
      "text/plain": [
       "<Figure size 640x480 with 1 Axes>"
      ]
     },
     "metadata": {},
     "output_type": "display_data"
    }
   ],
   "source": [
    "plt.figure(figsize=(6,4))\n",
    "df.plot(kind='bar', x='product', y='revenue', legend=False, color='skyblue')\n",
    "plt.title(\"Revenue by Product\")\n",
    "plt.ylabel(\"Revenue (INR)\")\n",
    "plt.xlabel(\"Product\")\n",
    "plt.tight_layout()\n",
    "plt.savefig(\"sales_chart.png\")\n",
    "plt.show()"
   ]
  },
  {
   "cell_type": "code",
   "execution_count": 16,
   "id": "ecc0570b-7dce-41c3-8c52-135efebc6fcd",
   "metadata": {},
   "outputs": [],
   "source": [
    "conn.close()"
   ]
  },
  {
   "cell_type": "code",
   "execution_count": null,
   "id": "9128f08e-3d3e-4dbc-bdd2-e6c28eac7092",
   "metadata": {},
   "outputs": [],
   "source": []
  }
 ],
 "metadata": {
  "kernelspec": {
   "display_name": "Python 3 (ipykernel)",
   "language": "python",
   "name": "python3"
  },
  "language_info": {
   "codemirror_mode": {
    "name": "ipython",
    "version": 3
   },
   "file_extension": ".py",
   "mimetype": "text/x-python",
   "name": "python",
   "nbconvert_exporter": "python",
   "pygments_lexer": "ipython3",
   "version": "3.13.5"
  }
 },
 "nbformat": 4,
 "nbformat_minor": 5
}
